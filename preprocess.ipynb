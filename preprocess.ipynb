{
 "cells": [
  {
   "cell_type": "code",
   "execution_count": 1,
   "id": "fitting-sussex",
   "metadata": {},
   "outputs": [],
   "source": [
    "import pandas as pd\n",
    "import numpy as np\n",
    "import matplotlib.pyplot as plt\n",
    "import seaborn as sns"
   ]
  },
  {
   "cell_type": "code",
   "execution_count": 2,
   "id": "extra-establishment",
   "metadata": {},
   "outputs": [],
   "source": [
    "df = pd.read_csv('data_cred_train.csv')"
   ]
  },
  {
   "cell_type": "code",
   "execution_count": null,
   "id": "nearby-charles",
   "metadata": {},
   "outputs": [],
   "source": []
  },
  {
   "cell_type": "markdown",
   "id": "logical-asset",
   "metadata": {},
   "source": [
    "# Подготовка данных"
   ]
  },
  {
   "cell_type": "markdown",
   "id": "seventh-bulletin",
   "metadata": {},
   "source": [
    "дубликаты"
   ]
  },
  {
   "cell_type": "code",
   "execution_count": 3,
   "id": "criminal-creativity",
   "metadata": {},
   "outputs": [
    {
     "name": "stdout",
     "output_type": "stream",
     "text": [
      "Всего 100514 а должно быть 81999\n"
     ]
    }
   ],
   "source": [
    "# проверка на дубликаты\n",
    "print('Всего', len(df['Loan ID']), 'а должно быть', df['Loan ID'].nunique())"
   ]
  },
  {
   "cell_type": "code",
   "execution_count": 4,
   "id": "infectious-packing",
   "metadata": {},
   "outputs": [],
   "source": [
    "df = df[df['Loan ID'].notna()].drop_duplicates(['Loan ID'])"
   ]
  },
  {
   "cell_type": "code",
   "execution_count": 5,
   "id": "upset-drawing",
   "metadata": {},
   "outputs": [
    {
     "data": {
      "text/plain": [
       "81999"
      ]
     },
     "execution_count": 5,
     "metadata": {},
     "output_type": "execute_result"
    }
   ],
   "source": [
    "len(df)"
   ]
  },
  {
   "cell_type": "code",
   "execution_count": null,
   "id": "controlling-essex",
   "metadata": {},
   "outputs": [],
   "source": []
  },
  {
   "cell_type": "code",
   "execution_count": 6,
   "id": "fluid-devon",
   "metadata": {},
   "outputs": [
    {
     "name": "stdout",
     "output_type": "stream",
     "text": [
      "Loan ID\n",
      "['14dd8831-6af5-400b-83ec-68e61888a048'\n",
      " '4771cc26-131a-45db-b5aa-537ea4ba5342'\n",
      " '4eed4e6a-aa2f-4c91-8651-ce984ee8fb26' ...\n",
      " 'e1cb4050-eff5-4bdb-a1b0-aabd3f7eaac7'\n",
      " '81ab928b-d1a5-4523-9a3c-271ebb01b4fb'\n",
      " 'c63916c6-6d46-47a9-949a-51d09af4414f']\n",
      "--------------------------------------------------------------------------------\n",
      "Customer ID\n",
      "['981165ec-3274-42f5-a3b4-d104041a9ca9'\n",
      " '2de017a3-2e01-49cb-a581-08169e83be29'\n",
      " '5efb2b2b-bf11-4dfd-a572-3761a2694725' ...\n",
      " '2ced5f10-bd60-4a11-9134-cadce4e7b0a3'\n",
      " '3e45ffda-99fd-4cfc-b8b8-446f4a505f36'\n",
      " '1b3014be-5c07-4d41-abe7-44573c375886']\n",
      "--------------------------------------------------------------------------------\n",
      "Loan Status\n",
      "['Fully Paid' 'Charged Off']\n",
      "--------------------------------------------------------------------------------\n",
      "Current Loan Amount\n",
      "[4.4541200e+05 2.6232800e+05 9.9999999e+07 ... 9.0398000e+04 4.8604600e+05\n",
      " 2.7407600e+05]\n",
      "--------------------------------------------------------------------------------\n",
      "Term\n",
      "['Short Term' 'Long Term']\n",
      "--------------------------------------------------------------------------------\n",
      "Credit Score\n",
      "[ 709.   nan  741.  721. 7290.  730.  678.  739.  728.  740.  743.  727.\n",
      "  723.  747.  687.  750.  714.  724.  704.  688.  749.  746.  737.  729.\n",
      "  733.  725.  745.  720.  718.  682. 7120.  680.  710.  598.  719. 6610.\n",
      "  652.  736. 7380.  644.  672. 7370.  699.  751.  694.  675.  657.  748.\n",
      "  666.  734.  742.  705.  731. 6240.  712.  685.  717.  722.  618.  676.\n",
      "  692. 7210.  732.  649.  695.  744.  686.  637.  697.  706.  715.  707.\n",
      "  726.  738. 7500.  716. 7020.  651.  708.  698.  689.  735.  703.  693.\n",
      " 7080.  645.  691.  673.  700. 7140.  658.  674.  654. 7490.  681.  696.\n",
      "  713.  668. 7360.  659. 7160.  647.  683.  670.  623.  711.  639.  671.\n",
      " 6990.  614.  667.  701. 7410. 7310. 7040. 7060.  615. 7200.  656.  653.\n",
      "  664.  613. 7450. 7300.  636.  702. 7430.  594. 7170.  646. 7000.  669.\n",
      " 7280. 7090. 6970. 7460. 6920.  612. 7350. 7190.  690. 6690. 6750.  641.\n",
      "  665.  677.  684.  655. 7010. 6530.  630. 7270.  663.  638.  596. 7420.\n",
      "  660. 6810.  679. 7070. 7390. 7470.  609.  603. 6670. 6710. 6580. 6940.\n",
      " 6800. 7110.  661. 7130.  643.  633. 5860. 6960.  629.  648. 7150. 6400.\n",
      " 6830. 6360. 6650.  625. 6740.  635. 7260. 7480. 6980.  662.  640. 7250.\n",
      " 7320.  627. 7180. 6640. 6780.  611. 6090.  604.  642. 7240.  621. 6550.\n",
      " 6900. 6590. 6840. 6660. 7400.  632. 6760. 7340. 6860. 6870. 6680.  602.\n",
      " 7220.  616.  600. 6460. 6500.  597. 6880. 6540.  622. 6100. 7330.  619.\n",
      "  624. 7510. 6930. 6430. 6160.  628.  599. 7030. 6630. 7230.  606. 6890.\n",
      " 6820. 6850. 7100. 6210. 6150. 7440. 6080.  650. 6200. 6570.  626. 6110.\n",
      " 6560. 6730. 6410.  605. 6310. 5960.  589. 6350.  607. 6470. 6520. 6700.\n",
      "  608.  631. 6950. 6720. 6290. 6770.  620. 6480. 6380. 7050. 6390.  590.\n",
      "  634. 6910. 6620. 6370. 6600. 6250.  587.  588.  591.  617. 6450.  610.\n",
      " 6010.  595.  601.  586. 6490. 6510. 5850.  585. 6300. 6790. 6330. 6130.\n",
      " 6220. 6440. 6340. 6270. 6260. 6170. 5940. 5950. 6420. 6180.  592. 5900.\n",
      " 6320. 6230. 6120. 6280.  593. 5920. 6140. 6070. 6190. 5930. 6060. 5890.\n",
      " 6050.]\n",
      "--------------------------------------------------------------------------------\n",
      "Annual Income\n",
      "[1167493.      nan 2231892. ... 2582404. 1190046. 1289416.]\n",
      "--------------------------------------------------------------------------------\n",
      "Years in current job\n",
      "['8 years' '10+ years' '3 years' '5 years' '< 1 year' '2 years' '4 years'\n",
      " '9 years' '7 years' '1 year' nan '6 years']\n",
      "--------------------------------------------------------------------------------\n",
      "Home Ownership\n",
      "['Home Mortgage' 'Own Home' 'Rent' 'HaveMortgage']\n",
      "--------------------------------------------------------------------------------\n",
      "Purpose\n",
      "['Home Improvements' 'Debt Consolidation' 'Buy House' 'other'\n",
      " 'Business Loan' 'Buy a Car' 'major_purchase' 'Take a Trip' 'Other'\n",
      " 'small_business' 'Medical Bills' 'wedding' 'vacation'\n",
      " 'Educational Expenses' 'moving' 'renewable_energy']\n",
      "--------------------------------------------------------------------------------\n",
      "Monthly Debt\n",
      "[ 5214.74 33295.98 29200.53 ... 11969.81  7315.57  9890.07]\n",
      "--------------------------------------------------------------------------------\n",
      "Years of Credit History\n",
      "[17.2 21.1 14.9 12.   6.1 17.3 19.6  8.2 22.6 13.9 16.  23.2  8.5 13.3\n",
      " 24.7 19.4 20.5 22.  27.1 22.7 17.4 11.9 15.7 17.5 14.4 22.3 14.  20.\n",
      " 43.7 18.  15.4 14.6 24.5 14.1 20.6 28.8 16.6 16.7 14.8 14.5 21.6 18.6\n",
      " 17.8 20.9 17.  15.6 36.6 40.8 11.4  9.2 16.1 15.  18.3 12.1 31.5 19.3\n",
      " 21.8 15.1 25.6 31.4 29.5 13.8 21.5  6.4 10.5 13.  19.  11.8 28.2 12.2\n",
      " 44.5 27.4 20.4 22.4 29.1 31.3 17.9 14.2 25.9 14.7 23.3 19.7 10.  19.5\n",
      " 11.  12.3 13.6 26.5 10.2 16.9  7.  12.5 15.9 10.7 13.4 20.7  9.  23.4\n",
      "  9.5 34.4 18.4 23.5 14.3 50.1 13.2 33.1 23.9 13.5 43.3 24.  23.  16.2\n",
      " 29.2 18.2 44.  21.  30.5  7.1  6.6 15.8 16.5 17.6 13.7 36.3 22.5  8.6\n",
      " 15.5 10.8 18.7 30.9 17.1 16.3  4.9 21.4 11.1 11.7 10.3 18.5  8.7  9.9\n",
      " 19.2 21.3 22.2 33.7 27.  18.8 13.1 15.2 15.3 21.2 20.8  9.7 11.5  9.3\n",
      " 19.9 42.4 22.8 35.  24.1 36.4 30.6 12.8 23.8 25.5 38.5 24.4 12.4 10.1\n",
      " 12.9 18.1 11.3  7.5 16.4 20.2  9.8 23.6 27.2 32.9  8.9 16.8 10.6 26.9\n",
      " 11.2 40.3 20.1  8.  28.4 21.9 21.7 48.7 32.5  8.8 30.  22.9 26.  35.6\n",
      " 28.9 12.6 38.  26.3 28.5 31.2 26.4  8.4 35.9 29.   8.3 24.3 25.7 33.5\n",
      " 33.4 19.8 31.  19.1 30.8 27.7 32.2 38.3 32.4 29.9 22.1 26.7 29.8  9.4\n",
      " 27.5 27.8  7.7 25.   9.6 10.9 17.7 31.8 12.7 27.6 37.1 37.4 24.2 31.7\n",
      " 25.2 34.2 18.9  6.8 32.6 27.9 26.1 32.3  7.6 32.1  5.  23.1  5.8  5.5\n",
      " 34.1 24.6 34.   7.9 10.4 28.1 20.3 24.9 39.  25.8 30.4 35.4  7.8 28.3\n",
      " 34.3 28.6 38.9 39.4 11.6 32.7  9.1 26.2  6.2  5.4 40.1 28.7 45.3 36.\n",
      " 29.3 34.5  7.4 33.  37.8  8.1 42.3 25.4 26.8  5.7  6.5  6.  39.6 38.8\n",
      " 29.7  6.9 30.3  6.7 30.2 28.  26.6 31.9 39.9 24.8 37.  23.7  4.5 35.5\n",
      " 46.2 42.7 32.8 46.9  4.2 41.5 38.7 29.4 30.7 33.9  7.3  5.3 43.5  5.2\n",
      " 35.2 38.6  3.7 37.5 31.1 35.8 33.3  6.3 31.6 39.1 30.1 43.2 40.2 40.7\n",
      " 32.  36.2 47.  25.3 34.9  5.9 34.7 48.9 33.6 39.5 29.6  4.4  7.2 46.3\n",
      " 42.8 25.1 40.4 38.1 42.  46.  41.  41.1 44.6 42.5 33.2 50.9 41.2 34.8\n",
      " 48.8 43.8 36.8 33.8 41.9 27.3 43.9 46.8 41.3 41.6 37.2 48.2 37.6 42.6\n",
      " 41.7 39.3 46.1 46.7 41.4  3.6 38.2 36.5 40.  40.5 36.7  4.8 52.8 42.1\n",
      " 40.6 35.3  5.6 46.5 37.3 53.2 45.5 42.9 38.4 37.7 44.3  5.1 35.7 34.6\n",
      " 39.7 51.4  4.3 36.9 35.1 47.5 41.8 39.2 47.4 43.4  4.  39.8 44.1 43.\n",
      " 37.9 44.4 36.1 48.3 51.  47.3  4.1 43.6 45.  49.9 49.6 49.   4.6 56.5\n",
      " 43.1 45.1 45.6 65.  47.1 49.4 51.5 54.  46.4  3.9  4.7 47.9 45.8 52.9\n",
      " 55.8 52.5 49.5 44.7 51.9 40.9  3.8 50.  44.8 48.5 45.4 70.5 42.2 59.5\n",
      " 56.8 49.3 52.6 48.6 51.6 52.3 59.7 44.2 51.8 50.3 54.5 48.  45.2 47.8\n",
      " 49.1 60.5 50.6 47.7 45.9 58.  46.6 50.4 50.5 50.8 53.4 57.7 45.7 53.8\n",
      " 51.7 47.6 59.9 53.1 54.2 52.  57.  48.4 57.5 49.2 56.  50.2 49.8 49.7\n",
      " 52.2 51.3]\n",
      "--------------------------------------------------------------------------------\n",
      "Months since last delinquent\n",
      "[ nan   8.  29.  10.  33.  76.  25.  46.  34.  53.  30.  32.  21.  50.\n",
      "  20.  24.  15.   6.  13.  48.  69.  42.  35.   7.  27.   5.  26.  17.\n",
      "  72.  65.   4.  11.  54.  31.  19.  41.  73.  60.  77.  18.   9.  80.\n",
      "  70.  38.  47.  82.  74.   0.  16.  75.  61.  79.  62.  56.  64.  36.\n",
      "  39.  59.  55.  37.  58.  68.  22.  45.  14.  51.  49.   1.  81.  63.\n",
      "  71.  43.  40.  12.  52.   3.  66.  23.  57.  78.  44.   2.  28.  88.\n",
      "  67.  85.  89. 118.  83. 152. 120.  92.  86.  94. 110.  93.  97.  84.\n",
      " 130. 129. 106.  90. 107. 176. 108.  87. 139. 143. 114.  91. 104. 115.\n",
      " 100. 148. 141.  96. 131.]\n",
      "--------------------------------------------------------------------------------\n",
      "Number of Open Accounts\n",
      "[ 6. 35. 18.  9. 15. 13.  4. 20. 16. 23. 10.  8.  7. 12. 17.  5. 14. 11.\n",
      " 34. 22. 19.  2. 32. 21.  3. 25. 28. 24. 43.  1. 30. 27. 26. 36. 31. 29.\n",
      " 45. 37. 33. 38. 40. 41. 47. 48. 39.  0. 56. 42. 44. 52. 76.]\n",
      "--------------------------------------------------------------------------------\n",
      "Number of Credit Problems\n",
      "[ 1.  0.  2.  5.  4.  3.  7.  6. 11. 15. 10.  8.  9. 12.]\n",
      "--------------------------------------------------------------------------------\n",
      "Current Credit Balance\n",
      "[ 228190.  229976.  297996. ... 2163891.  804175.  850820.]\n",
      "--------------------------------------------------------------------------------\n",
      "Maximum Open Credit\n",
      "[ 416746.  850784.  750090. ... 1287792. 2299198.  892606.]\n",
      "--------------------------------------------------------------------------------\n",
      "Bankruptcies\n",
      "[ 1.  0.  2.  3. nan  5.  4.  7.  6.]\n",
      "--------------------------------------------------------------------------------\n",
      "Tax Liens\n",
      "[ 0.  1.  2.  4.  3.  6.  5. nan 11. 15.  9.  7. 10.]\n",
      "--------------------------------------------------------------------------------\n"
     ]
    }
   ],
   "source": [
    "for i in df.columns:\n",
    "    print(i)\n",
    "    print(df[i].unique())\n",
    "    print('-'*80)"
   ]
  },
  {
   "cell_type": "markdown",
   "id": "documentary-french",
   "metadata": {},
   "source": [
    "Current Loan Amount"
   ]
  },
  {
   "cell_type": "code",
   "execution_count": 7,
   "id": "pursuant-exemption",
   "metadata": {},
   "outputs": [
    {
     "data": {
      "text/plain": [
       "0"
      ]
     },
     "execution_count": 7,
     "metadata": {},
     "output_type": "execute_result"
    }
   ],
   "source": [
    "df['Current Loan Amount'].isnull().sum()"
   ]
  },
  {
   "cell_type": "code",
   "execution_count": 8,
   "id": "hourly-legislation",
   "metadata": {},
   "outputs": [
    {
     "data": {
      "text/plain": [
       "(array([72311.,     0.,     0.,     0.,     0.,     0.,     0.,     0.,\n",
       "            0.,  9688.]),\n",
       " array([1.08020000e+04, 1.00097217e+07, 2.00086414e+07, 3.00075611e+07,\n",
       "        4.00064808e+07, 5.00054005e+07, 6.00043202e+07, 7.00032399e+07,\n",
       "        8.00021596e+07, 9.00010793e+07, 9.99999990e+07]),\n",
       " <BarContainer object of 10 artists>)"
      ]
     },
     "execution_count": 8,
     "metadata": {},
     "output_type": "execute_result"
    },
    {
     "data": {
      "image/png": "[encoded data removed]",
      "text/plain": [
       "<Figure size 432x288 with 1 Axes>"
      ]
     },
     "metadata": {
      "needs_background": "light"
     },
     "output_type": "display_data"
    }
   ],
   "source": [
    "plt.hist(df['Current Loan Amount'])"
   ]
  },
  {
   "cell_type": "code",
   "execution_count": 9,
   "id": "actual-barrel",
   "metadata": {},
   "outputs": [],
   "source": [
    "# замена на медиану\n",
    "median=df['Current Loan Amount'].median()\n",
    "quantile95 = df['Current Loan Amount'].quantile(.95)\n",
    "df['Current Loan Amount']=df['Current Loan Amount'].map(lambda x: median if x>=quantile95 else x)"
   ]
  },
  {
   "cell_type": "code",
   "execution_count": 10,
   "id": "sustained-intermediate",
   "metadata": {},
   "outputs": [
    {
     "data": {
      "image/png": "[encoded data removed]",
      "text/plain": [
       "<Figure size 432x288 with 1 Axes>"
      ]
     },
     "metadata": {
      "needs_background": "light"
     },
     "output_type": "display_data"
    }
   ],
   "source": [
    "plt.hist(df['Current Loan Amount']);"
   ]
  },
  {
   "cell_type": "markdown",
   "id": "controlled-petroleum",
   "metadata": {},
   "source": [
    "Years in current job"
   ]
  },
  {
   "cell_type": "code",
   "execution_count": 11,
   "id": "listed-motorcycle",
   "metadata": {},
   "outputs": [
    {
     "data": {
      "text/plain": [
       "10+ years    25271\n",
       "2 years       7560\n",
       "< 1 year      6755\n",
       "3 years       6671\n",
       "5 years       5619\n",
       "1 year        5317\n",
       "4 years       5029\n",
       "6 years       4702\n",
       "7 years       4566\n",
       "8 years       3781\n",
       "9 years       3220\n",
       "Name: Years in current job, dtype: int64"
      ]
     },
     "execution_count": 11,
     "metadata": {},
     "output_type": "execute_result"
    }
   ],
   "source": [
    "df[\"Years in current job\"].value_counts()"
   ]
  },
  {
   "cell_type": "code",
   "execution_count": 12,
   "id": "fossil-correction",
   "metadata": {},
   "outputs": [],
   "source": [
    "# поскольку 10+ доминирует - ее и будем ставить\n",
    "df['Years in current job'].fillna('10+ years', inplace=True)"
   ]
  },
  {
   "cell_type": "code",
   "execution_count": 13,
   "id": "velvet-cardiff",
   "metadata": {},
   "outputs": [
    {
     "data": {
      "text/plain": [
       "0"
      ]
     },
     "execution_count": 13,
     "metadata": {},
     "output_type": "execute_result"
    }
   ],
   "source": [
    "df['Years in current job'].isnull().sum()"
   ]
  },
  {
   "cell_type": "code",
   "execution_count": 14,
   "id": "impossible-cameroon",
   "metadata": {},
   "outputs": [
    {
     "data": {
      "text/plain": [
       "0          8 years\n",
       "1        10+ years\n",
       "2          8 years\n",
       "3          3 years\n",
       "4          5 years\n",
       "           ...    \n",
       "99990     < 1 year\n",
       "99996       1 year\n",
       "99997      6 years\n",
       "99998      9 years\n",
       "99999    10+ years\n",
       "Name: Years in current job, Length: 81999, dtype: object"
      ]
     },
     "execution_count": 14,
     "metadata": {},
     "output_type": "execute_result"
    }
   ],
   "source": [
    "df['Years in current job']"
   ]
  },
  {
   "cell_type": "markdown",
   "id": "acute-atlantic",
   "metadata": {},
   "source": [
    "Purpose (другое-прочее)"
   ]
  },
  {
   "cell_type": "code",
   "execution_count": 15,
   "id": "surgical-protection",
   "metadata": {},
   "outputs": [
    {
     "data": {
      "text/plain": [
       "array(['Home Improvements', 'Debt Consolidation', 'Buy House', 'other',\n",
       "       'Business Loan', 'Buy a Car', 'major_purchase', 'Take a Trip',\n",
       "       'Other', 'small_business', 'Medical Bills', 'wedding', 'vacation',\n",
       "       'Educational Expenses', 'moving', 'renewable_energy'], dtype=object)"
      ]
     },
     "execution_count": 15,
     "metadata": {},
     "output_type": "execute_result"
    }
   ],
   "source": [
    "df['Purpose'].unique()"
   ]
  },
  {
   "cell_type": "code",
   "execution_count": 16,
   "id": "executed-bracket",
   "metadata": {},
   "outputs": [],
   "source": [
    "df['Purpose']=df['Purpose'].map(lambda x: 'Other' if x=='other' else x)"
   ]
  },
  {
   "cell_type": "markdown",
   "id": "interior-voltage",
   "metadata": {},
   "source": [
    "Monthly Debt"
   ]
  },
  {
   "cell_type": "code",
   "execution_count": 17,
   "id": "finite-french",
   "metadata": {},
   "outputs": [
    {
     "data": {
      "text/plain": [
       "0"
      ]
     },
     "execution_count": 17,
     "metadata": {},
     "output_type": "execute_result"
    }
   ],
   "source": [
    "df['Monthly Debt'].isnull().sum()"
   ]
  },
  {
   "cell_type": "markdown",
   "id": "collective-fusion",
   "metadata": {},
   "source": [
    "Years of Credit History"
   ]
  },
  {
   "cell_type": "code",
   "execution_count": 18,
   "id": "wanted-insertion",
   "metadata": {},
   "outputs": [
    {
     "data": {
      "text/plain": [
       "0"
      ]
     },
     "execution_count": 18,
     "metadata": {},
     "output_type": "execute_result"
    }
   ],
   "source": [
    "df['Years of Credit History'].isnull().sum()"
   ]
  },
  {
   "cell_type": "markdown",
   "id": "flying-anime",
   "metadata": {},
   "source": [
    "Months since last delinquent (nan - не было просроченности, замена на 0)"
   ]
  },
  {
   "cell_type": "code",
   "execution_count": 19,
   "id": "absent-victim",
   "metadata": {},
   "outputs": [
    {
     "data": {
      "text/plain": [
       "44621"
      ]
     },
     "execution_count": 19,
     "metadata": {},
     "output_type": "execute_result"
    }
   ],
   "source": [
    "df['Months since last delinquent'].isnull().sum()"
   ]
  },
  {
   "cell_type": "code",
   "execution_count": 20,
   "id": "collect-failure",
   "metadata": {},
   "outputs": [],
   "source": [
    "df['Months since last delinquent'] = df['Months since last delinquent'].fillna(0)"
   ]
  },
  {
   "cell_type": "markdown",
   "id": "placed-daniel",
   "metadata": {},
   "source": [
    "Current Credit Balance"
   ]
  },
  {
   "cell_type": "code",
   "execution_count": 21,
   "id": "veterinary-internet",
   "metadata": {},
   "outputs": [
    {
     "data": {
      "text/plain": [
       "0"
      ]
     },
     "execution_count": 21,
     "metadata": {},
     "output_type": "execute_result"
    }
   ],
   "source": [
    "df['Current Credit Balance'].isnull().sum()"
   ]
  },
  {
   "cell_type": "markdown",
   "id": "clean-pencil",
   "metadata": {},
   "source": [
    "Maximum Open Credit"
   ]
  },
  {
   "cell_type": "code",
   "execution_count": 22,
   "id": "recorded-naples",
   "metadata": {},
   "outputs": [
    {
     "data": {
      "text/plain": [
       "2"
      ]
     },
     "execution_count": 22,
     "metadata": {},
     "output_type": "execute_result"
    }
   ],
   "source": [
    "df['Maximum Open Credit'].isnull().sum()"
   ]
  },
  {
   "cell_type": "code",
   "execution_count": 23,
   "id": "nonprofit-album",
   "metadata": {},
   "outputs": [],
   "source": [
    "df['Maximum Open Credit'] = df['Maximum Open Credit'].fillna(0)"
   ]
  },
  {
   "cell_type": "markdown",
   "id": "closed-caution",
   "metadata": {},
   "source": [
    "Tax Liens"
   ]
  },
  {
   "cell_type": "code",
   "execution_count": 24,
   "id": "mediterranean-mileage",
   "metadata": {},
   "outputs": [
    {
     "data": {
      "text/plain": [
       "8"
      ]
     },
     "execution_count": 24,
     "metadata": {},
     "output_type": "execute_result"
    }
   ],
   "source": [
    "df['Tax Liens'].isnull().sum()"
   ]
  },
  {
   "cell_type": "code",
   "execution_count": 25,
   "id": "impossible-three",
   "metadata": {},
   "outputs": [],
   "source": [
    "df['Tax Liens'] = df['Tax Liens'].fillna(0)"
   ]
  },
  {
   "cell_type": "markdown",
   "id": "familiar-space",
   "metadata": {},
   "source": [
    "Bankruptcies "
   ]
  },
  {
   "cell_type": "code",
   "execution_count": 26,
   "id": "coral-accent",
   "metadata": {},
   "outputs": [
    {
     "data": {
      "text/plain": [
       "175"
      ]
     },
     "execution_count": 26,
     "metadata": {},
     "output_type": "execute_result"
    }
   ],
   "source": [
    "df['Bankruptcies'].isnull().sum()"
   ]
  },
  {
   "cell_type": "code",
   "execution_count": 27,
   "id": "monthly-elite",
   "metadata": {},
   "outputs": [],
   "source": [
    "df['Bankruptcies'] = df['Bankruptcies'].fillna(0)"
   ]
  },
  {
   "cell_type": "markdown",
   "id": "tested-festival",
   "metadata": {},
   "source": [
    "## Credit Score и Annual Income(можно поставить средние, а можно попробовать их предсказать)"
   ]
  },
  {
   "cell_type": "code",
   "execution_count": 28,
   "id": "floppy-speed",
   "metadata": {},
   "outputs": [],
   "source": [
    "score=0\n",
    "index_Credit_Score = []\n",
    "for row in df['Credit Score']:\n",
    "    try:\n",
    "        int(row)\n",
    "    except ValueError:\n",
    "        index_Credit_Score.append(score)\n",
    "    score+=1\n",
    "   \n",
    "annual_income = 0\n",
    "index_Annual_Income = []\n",
    "for row in df['Annual Income']:\n",
    "    try:\n",
    "        int(row)\n",
    "    except ValueError:\n",
    "        index_Annual_Income.append(annual_income)\n",
    "    annual_income+=1"
   ]
  },
  {
   "cell_type": "markdown",
   "id": "protecting-mathematics",
   "metadata": {},
   "source": [
    "Credit Score"
   ]
  },
  {
   "cell_type": "code",
   "execution_count": 29,
   "id": "academic-lawrence",
   "metadata": {},
   "outputs": [
    {
     "name": "stderr",
     "output_type": "stream",
     "text": [
      "<ipython-input-29-d6707f49876f>:15: SettingWithCopyWarning: \n",
      "A value is trying to be set on a copy of a slice from a DataFrame\n",
      "\n",
      "See the caveats in the documentation: https://pandas.pydata.org/pandas-docs/stable/user_guide/indexing.html#returning-a-view-versus-a-copy\n",
      "  X_train.dropna(inplace=True)\n",
      "c:\\python38\\lib\\site-packages\\pandas\\core\\frame.py:4305: SettingWithCopyWarning: \n",
      "A value is trying to be set on a copy of a slice from a DataFrame\n",
      "\n",
      "See the caveats in the documentation: https://pandas.pydata.org/pandas-docs/stable/user_guide/indexing.html#returning-a-view-versus-a-copy\n",
      "  return super().drop(\n"
     ]
    }
   ],
   "source": [
    "X_train = df[['Credit Score',\n",
    "              'Current Loan Amount',\n",
    "              'Monthly Debt',\n",
    "              'Years of Credit History',\n",
    "              'Months since last delinquent',\n",
    "              'Number of Open Accounts',\n",
    "              'Number of Credit Problems',\n",
    "              'Maximum Open Credit',\n",
    "              'Bankruptcies',\n",
    "              'Tax Liens',\n",
    "              'Current Credit Balance']]\n",
    "\n",
    "X_test = X_train.copy().drop(columns=['Credit Score'])\n",
    "\n",
    "X_train.dropna(inplace=True)\n",
    "\n",
    "y_train_Credit_Score = X_train['Credit Score']\n",
    "X_train.drop(columns=['Credit Score'], inplace=True)"
   ]
  },
  {
   "cell_type": "code",
   "execution_count": 30,
   "id": "drawn-steam",
   "metadata": {},
   "outputs": [],
   "source": [
    "from sklearn import linear_model\n",
    "from sklearn.linear_model import Ridge\n",
    "\n",
    "creditreg= linear_model.Ridge()\n",
    "creditreg.fit(X_train, y_train_Credit_Score)\n",
    "y_pred_credit=creditreg.predict(X_test)\n",
    "\n",
    "i=0\n",
    "for index, row in df.iterrows():\n",
    "    if(pd.isnull(row['Credit Score'])):\n",
    "        df.at[index,'Credit Score']=y_pred_credit[i]\n",
    "        i+=1"
   ]
  },
  {
   "cell_type": "markdown",
   "id": "inappropriate-comedy",
   "metadata": {},
   "source": [
    "Annual Income (аналогично)"
   ]
  },
  {
   "cell_type": "code",
   "execution_count": 31,
   "id": "pharmaceutical-benjamin",
   "metadata": {},
   "outputs": [
    {
     "name": "stderr",
     "output_type": "stream",
     "text": [
      "<ipython-input-31-6a3ad2234c89>:15: SettingWithCopyWarning: \n",
      "A value is trying to be set on a copy of a slice from a DataFrame\n",
      "\n",
      "See the caveats in the documentation: https://pandas.pydata.org/pandas-docs/stable/user_guide/indexing.html#returning-a-view-versus-a-copy\n",
      "  X_train.dropna(inplace=True)\n",
      "c:\\python38\\lib\\site-packages\\pandas\\core\\frame.py:4305: SettingWithCopyWarning: \n",
      "A value is trying to be set on a copy of a slice from a DataFrame\n",
      "\n",
      "See the caveats in the documentation: https://pandas.pydata.org/pandas-docs/stable/user_guide/indexing.html#returning-a-view-versus-a-copy\n",
      "  return super().drop(\n"
     ]
    }
   ],
   "source": [
    "X_train = df[['Annual Income',\n",
    "              'Current Loan Amount',\n",
    "              'Monthly Debt',\n",
    "              'Years of Credit History',\n",
    "              'Months since last delinquent',\n",
    "              'Number of Open Accounts',\n",
    "              'Number of Credit Problems',\n",
    "              'Maximum Open Credit',\n",
    "              'Bankruptcies',\n",
    "              'Tax Liens',\n",
    "              'Current Credit Balance']]\n",
    "\n",
    "X_test = X_train.copy().drop(columns=['Annual Income'])\n",
    "\n",
    "X_train.dropna(inplace=True)\n",
    "\n",
    "y_train_Credit_Score = X_train['Annual Income']\n",
    "X_train.drop(columns=['Annual Income'], inplace=True)"
   ]
  },
  {
   "cell_type": "code",
   "execution_count": 32,
   "id": "permanent-prevention",
   "metadata": {},
   "outputs": [],
   "source": [
    "creditreg= linear_model.Ridge()\n",
    "creditreg.fit(X_train, y_train_Credit_Score)\n",
    "y_pred_credit=creditreg.predict(X_test)\n",
    "\n",
    "i=0\n",
    "for index, row in df.iterrows():\n",
    "    if(pd.isnull(row['Annual Income'])):\n",
    "        df.at[index,'Annual Income']=y_pred_credit[i]\n",
    "        i+=1"
   ]
  },
  {
   "cell_type": "code",
   "execution_count": null,
   "id": "advanced-portsmouth",
   "metadata": {},
   "outputs": [],
   "source": []
  },
  {
   "cell_type": "code",
   "execution_count": 33,
   "id": "respiratory-invalid",
   "metadata": {},
   "outputs": [
    {
     "data": {
      "text/plain": [
       "Loan ID                         0\n",
       "Customer ID                     0\n",
       "Loan Status                     0\n",
       "Current Loan Amount             0\n",
       "Term                            0\n",
       "Credit Score                    0\n",
       "Annual Income                   0\n",
       "Years in current job            0\n",
       "Home Ownership                  0\n",
       "Purpose                         0\n",
       "Monthly Debt                    0\n",
       "Years of Credit History         0\n",
       "Months since last delinquent    0\n",
       "Number of Open Accounts         0\n",
       "Number of Credit Problems       0\n",
       "Current Credit Balance          0\n",
       "Maximum Open Credit             0\n",
       "Bankruptcies                    0\n",
       "Tax Liens                       0\n",
       "dtype: int64"
      ]
     },
     "execution_count": 33,
     "metadata": {},
     "output_type": "execute_result"
    }
   ],
   "source": [
    "df.isnull().sum()"
   ]
  },
  {
   "cell_type": "code",
   "execution_count": null,
   "id": "ahead-pulse",
   "metadata": {},
   "outputs": [],
   "source": []
  },
  {
   "cell_type": "code",
   "execution_count": 34,
   "id": "processed-cloud",
   "metadata": {},
   "outputs": [
    {
     "data": {
      "text/html": [
       "<div>\n",
       "<style scoped>\n",
       "    .dataframe tbody tr th:only-of-type {\n",
       "        vertical-align: middle;\n",
       "    }\n",
       "\n",
       "    .dataframe tbody tr th {\n",
       "        vertical-align: top;\n",
       "    }\n",
       "\n",
       "    .dataframe thead th {\n",
       "        text-align: right;\n",
       "    }\n",
       "</style>\n",
       "<table border=\"1\" class=\"dataframe\">\n",
       "  <thead>\n",
       "    <tr style=\"text-align: right;\">\n",
       "      <th></th>\n",
       "      <th>Loan ID</th>\n",
       "      <th>Customer ID</th>\n",
       "      <th>Loan Status</th>\n",
       "      <th>Current Loan Amount</th>\n",
       "      <th>Term</th>\n",
       "      <th>Credit Score</th>\n",
       "      <th>Annual Income</th>\n",
       "      <th>Years in current job</th>\n",
       "      <th>Home Ownership</th>\n",
       "      <th>Purpose</th>\n",
       "      <th>Monthly Debt</th>\n",
       "      <th>Years of Credit History</th>\n",
       "      <th>Months since last delinquent</th>\n",
       "      <th>Number of Open Accounts</th>\n",
       "      <th>Number of Credit Problems</th>\n",
       "      <th>Current Credit Balance</th>\n",
       "      <th>Maximum Open Credit</th>\n",
       "      <th>Bankruptcies</th>\n",
       "      <th>Tax Liens</th>\n",
       "    </tr>\n",
       "  </thead>\n",
       "  <tbody>\n",
       "    <tr>\n",
       "      <th>0</th>\n",
       "      <td>14dd8831-6af5-400b-83ec-68e61888a048</td>\n",
       "      <td>981165ec-3274-42f5-a3b4-d104041a9ca9</td>\n",
       "      <td>Fully Paid</td>\n",
       "      <td>445412.0</td>\n",
       "      <td>Short Term</td>\n",
       "      <td>709.000000</td>\n",
       "      <td>1.167493e+06</td>\n",
       "      <td>8 years</td>\n",
       "      <td>Home Mortgage</td>\n",
       "      <td>Home Improvements</td>\n",
       "      <td>5214.74</td>\n",
       "      <td>17.2</td>\n",
       "      <td>0.0</td>\n",
       "      <td>6.0</td>\n",
       "      <td>1.0</td>\n",
       "      <td>228190.0</td>\n",
       "      <td>416746.0</td>\n",
       "      <td>1.0</td>\n",
       "      <td>0.0</td>\n",
       "    </tr>\n",
       "    <tr>\n",
       "      <th>1</th>\n",
       "      <td>4771cc26-131a-45db-b5aa-537ea4ba5342</td>\n",
       "      <td>2de017a3-2e01-49cb-a581-08169e83be29</td>\n",
       "      <td>Fully Paid</td>\n",
       "      <td>262328.0</td>\n",
       "      <td>Short Term</td>\n",
       "      <td>1208.518696</td>\n",
       "      <td>1.072021e+06</td>\n",
       "      <td>10+ years</td>\n",
       "      <td>Home Mortgage</td>\n",
       "      <td>Debt Consolidation</td>\n",
       "      <td>33295.98</td>\n",
       "      <td>21.1</td>\n",
       "      <td>8.0</td>\n",
       "      <td>35.0</td>\n",
       "      <td>0.0</td>\n",
       "      <td>229976.0</td>\n",
       "      <td>850784.0</td>\n",
       "      <td>0.0</td>\n",
       "      <td>0.0</td>\n",
       "    </tr>\n",
       "    <tr>\n",
       "      <th>2</th>\n",
       "      <td>4eed4e6a-aa2f-4c91-8651-ce984ee8fb26</td>\n",
       "      <td>5efb2b2b-bf11-4dfd-a572-3761a2694725</td>\n",
       "      <td>Fully Paid</td>\n",
       "      <td>307780.0</td>\n",
       "      <td>Short Term</td>\n",
       "      <td>741.000000</td>\n",
       "      <td>2.231892e+06</td>\n",
       "      <td>8 years</td>\n",
       "      <td>Own Home</td>\n",
       "      <td>Debt Consolidation</td>\n",
       "      <td>29200.53</td>\n",
       "      <td>14.9</td>\n",
       "      <td>29.0</td>\n",
       "      <td>18.0</td>\n",
       "      <td>1.0</td>\n",
       "      <td>297996.0</td>\n",
       "      <td>750090.0</td>\n",
       "      <td>0.0</td>\n",
       "      <td>0.0</td>\n",
       "    </tr>\n",
       "    <tr>\n",
       "      <th>3</th>\n",
       "      <td>77598f7b-32e7-4e3b-a6e5-06ba0d98fe8a</td>\n",
       "      <td>e777faab-98ae-45af-9a86-7ce5b33b1011</td>\n",
       "      <td>Fully Paid</td>\n",
       "      <td>347666.0</td>\n",
       "      <td>Long Term</td>\n",
       "      <td>721.000000</td>\n",
       "      <td>8.069490e+05</td>\n",
       "      <td>3 years</td>\n",
       "      <td>Own Home</td>\n",
       "      <td>Debt Consolidation</td>\n",
       "      <td>8741.90</td>\n",
       "      <td>12.0</td>\n",
       "      <td>0.0</td>\n",
       "      <td>9.0</td>\n",
       "      <td>0.0</td>\n",
       "      <td>256329.0</td>\n",
       "      <td>386958.0</td>\n",
       "      <td>0.0</td>\n",
       "      <td>0.0</td>\n",
       "    </tr>\n",
       "    <tr>\n",
       "      <th>4</th>\n",
       "      <td>d4062e70-befa-4995-8643-a0de73938182</td>\n",
       "      <td>81536ad9-5ccf-4eb8-befb-47a4d608658e</td>\n",
       "      <td>Fully Paid</td>\n",
       "      <td>176220.0</td>\n",
       "      <td>Short Term</td>\n",
       "      <td>1202.671085</td>\n",
       "      <td>1.493858e+06</td>\n",
       "      <td>5 years</td>\n",
       "      <td>Rent</td>\n",
       "      <td>Debt Consolidation</td>\n",
       "      <td>20639.70</td>\n",
       "      <td>6.1</td>\n",
       "      <td>0.0</td>\n",
       "      <td>15.0</td>\n",
       "      <td>0.0</td>\n",
       "      <td>253460.0</td>\n",
       "      <td>427174.0</td>\n",
       "      <td>0.0</td>\n",
       "      <td>0.0</td>\n",
       "    </tr>\n",
       "  </tbody>\n",
       "</table>\n",
       "</div>"
      ],
      "text/plain": [
       "                                Loan ID                           Customer ID  \\\n",
       "0  14dd8831-6af5-400b-83ec-68e61888a048  981165ec-3274-42f5-a3b4-d104041a9ca9   \n",
       "1  4771cc26-131a-45db-b5aa-537ea4ba5342  2de017a3-2e01-49cb-a581-08169e83be29   \n",
       "2  4eed4e6a-aa2f-4c91-8651-ce984ee8fb26  5efb2b2b-bf11-4dfd-a572-3761a2694725   \n",
       "3  77598f7b-32e7-4e3b-a6e5-06ba0d98fe8a  e777faab-98ae-45af-9a86-7ce5b33b1011   \n",
       "4  d4062e70-befa-4995-8643-a0de73938182  81536ad9-5ccf-4eb8-befb-47a4d608658e   \n",
       "\n",
       "  Loan Status  Current Loan Amount        Term  Credit Score  Annual Income  \\\n",
       "0  Fully Paid             445412.0  Short Term    709.000000   1.167493e+06   \n",
       "1  Fully Paid             262328.0  Short Term   1208.518696   1.072021e+06   \n",
       "2  Fully Paid             307780.0  Short Term    741.000000   2.231892e+06   \n",
       "3  Fully Paid             347666.0   Long Term    721.000000   8.069490e+05   \n",
       "4  Fully Paid             176220.0  Short Term   1202.671085   1.493858e+06   \n",
       "\n",
       "  Years in current job Home Ownership             Purpose  Monthly Debt  \\\n",
       "0              8 years  Home Mortgage   Home Improvements       5214.74   \n",
       "1            10+ years  Home Mortgage  Debt Consolidation      33295.98   \n",
       "2              8 years       Own Home  Debt Consolidation      29200.53   \n",
       "3              3 years       Own Home  Debt Consolidation       8741.90   \n",
       "4              5 years           Rent  Debt Consolidation      20639.70   \n",
       "\n",
       "   Years of Credit History  Months since last delinquent  \\\n",
       "0                     17.2                           0.0   \n",
       "1                     21.1                           8.0   \n",
       "2                     14.9                          29.0   \n",
       "3                     12.0                           0.0   \n",
       "4                      6.1                           0.0   \n",
       "\n",
       "   Number of Open Accounts  Number of Credit Problems  Current Credit Balance  \\\n",
       "0                      6.0                        1.0                228190.0   \n",
       "1                     35.0                        0.0                229976.0   \n",
       "2                     18.0                        1.0                297996.0   \n",
       "3                      9.0                        0.0                256329.0   \n",
       "4                     15.0                        0.0                253460.0   \n",
       "\n",
       "   Maximum Open Credit  Bankruptcies  Tax Liens  \n",
       "0             416746.0           1.0        0.0  \n",
       "1             850784.0           0.0        0.0  \n",
       "2             750090.0           0.0        0.0  \n",
       "3             386958.0           0.0        0.0  \n",
       "4             427174.0           0.0        0.0  "
      ]
     },
     "execution_count": 34,
     "metadata": {},
     "output_type": "execute_result"
    }
   ],
   "source": [
    "df.head()"
   ]
  },
  {
   "cell_type": "code",
   "execution_count": null,
   "id": "studied-policy",
   "metadata": {},
   "outputs": [],
   "source": []
  },
  {
   "cell_type": "code",
   "execution_count": 39,
   "id": "welsh-cleaner",
   "metadata": {},
   "outputs": [],
   "source": [
    "df.to_csv('preprocessed_data.csv', index=False)"
   ]
  },
  {
   "cell_type": "code",
   "execution_count": null,
   "id": "bottom-shaft",
   "metadata": {},
   "outputs": [],
   "source": []
  },
  {
   "cell_type": "code",
   "execution_count": null,
   "id": "electric-growing",
   "metadata": {},
   "outputs": [],
   "source": []
  },
  {
   "cell_type": "code",
   "execution_count": null,
   "id": "determined-halifax",
   "metadata": {},
   "outputs": [],
   "source": []
  },
  {
   "cell_type": "code",
   "execution_count": null,
   "id": "unavailable-french",
   "metadata": {},
   "outputs": [],
   "source": []
  }
 ],
 "metadata": {
  "kernelspec": {
   "display_name": "Python 3",
   "language": "python",
   "name": "python3"
  },
  "language_info": {
   "codemirror_mode": {
    "name": "ipython",
    "version": 3
   },
   "file_extension": ".py",
   "mimetype": "text/x-python",
   "name": "python",
   "nbconvert_exporter": "python",
   "pygments_lexer": "ipython3",
   "version": "3.8.7"
  }
 },
 "nbformat": 4,
 "nbformat_minor": 5
}
